{
 "cells": [
  {
   "cell_type": "markdown",
   "metadata": {},
   "source": [
    "# Example usage"
   ]
  },
  {
   "cell_type": "markdown",
   "metadata": {},
   "source": [
    "## Version check"
   ]
  },
  {
   "cell_type": "code",
   "execution_count": 1,
   "metadata": {},
   "outputs": [
    {
     "name": "stdout",
     "output_type": "stream",
     "text": [
      "4.0.0\n"
     ]
    }
   ],
   "source": [
    "import bumbag\n",
    "\n",
    "print(bumbag.__version__)"
   ]
  },
  {
   "cell_type": "markdown",
   "metadata": {},
   "source": [
    "### `daycount`"
   ]
  },
  {
   "cell_type": "markdown",
   "metadata": {},
   "source": [
    "Task: The digits of 22 February 2022 form [a palindrome and an ambigram](https://en.wikipedia.org/wiki/Twosday) in dd-mm-yyyy format.\n",
    "List the next five dates with these properties."
   ]
  },
  {
   "cell_type": "code",
   "execution_count": 2,
   "metadata": {},
   "outputs": [
    {
     "data": {
      "text/plain": [
       "['08-02-2080 ↦ 08022080',\n",
       " '18-02-2081 ↦ 18022081',\n",
       " '28-02-2082 ↦ 28022082',\n",
       " '10-12-2101 ↦ 10122101',\n",
       " '20-12-2102 ↦ 20122102']"
      ]
     },
     "execution_count": 2,
     "metadata": {},
     "output_type": "execute_result"
    }
   ],
   "source": [
    "from datetime import date\n",
    "\n",
    "from toolz import curried\n",
    "\n",
    "import bumbag\n",
    "\n",
    "\n",
    "def format_date(date, with_dash):\n",
    "    fmt = \"%d-%m-%Y\" if with_dash else \"%d%m%Y\"\n",
    "    return date.strftime(fmt)\n",
    "\n",
    "\n",
    "def is_palindrome_date(date):\n",
    "    d = format_date(date, False)\n",
    "    return d == d[::-1]\n",
    "\n",
    "\n",
    "def is_ambigram_date(date):\n",
    "    d = format_date(date, False)\n",
    "    return set(d) <= {\"0\", \"1\", \"2\", \"8\"}\n",
    "\n",
    "\n",
    "def show_date(date):\n",
    "    return f\"{format_date(date, True)} ↦ {format_date(date, False)}\"\n",
    "\n",
    "\n",
    "curried.pipe(\n",
    "    bumbag.daycount(date(2022, 2, 23)),\n",
    "    curried.filter(is_palindrome_date),\n",
    "    curried.filter(is_ambigram_date),\n",
    "    curried.map(show_date),\n",
    "    curried.take(5),\n",
    "    list,\n",
    ")"
   ]
  },
  {
   "cell_type": "markdown",
   "metadata": {},
   "source": [
    "### `flatten`"
   ]
  },
  {
   "cell_type": "code",
   "execution_count": 3,
   "metadata": {},
   "outputs": [
    {
     "data": {
      "text/plain": [
       "['one', 2, 3, 4, 'five', 'six', 'seven', 8, 9, 'ten']"
      ]
     },
     "execution_count": 3,
     "metadata": {},
     "output_type": "execute_result"
    }
   ],
   "source": [
    "import bumbag\n",
    "\n",
    "irregular_list = [\n",
    "    [\"one\", 2],\n",
    "    3,\n",
    "    [(4, \"five\")],\n",
    "    [[[\"six\"]]],\n",
    "    \"seven\",\n",
    "    [],\n",
    "]\n",
    "\n",
    "list(bumbag.flatten(irregular_list, 8, [9, (\"ten\",)]))"
   ]
  },
  {
   "cell_type": "markdown",
   "metadata": {},
   "source": [
    "### `highlight_string_differences`"
   ]
  },
  {
   "cell_type": "markdown",
   "metadata": {},
   "source": [
    "Use in an `assert` statement to get more information:"
   ]
  },
  {
   "cell_type": "code",
   "execution_count": 4,
   "metadata": {},
   "outputs": [],
   "source": [
    "import traceback\n",
    "\n",
    "import bumbag\n",
    "\n",
    "lft_str = \"hello\"\n",
    "rgt_str = \"hallo\""
   ]
  },
  {
   "cell_type": "markdown",
   "metadata": {},
   "source": [
    "Common approach to print values might not be informative enough for subtle differences."
   ]
  },
  {
   "cell_type": "code",
   "execution_count": 5,
   "metadata": {},
   "outputs": [
    {
     "name": "stderr",
     "output_type": "stream",
     "text": [
      "Traceback (most recent call last):\n",
      "  File \"/tmp/ipykernel_22739/54865336.py\", line 2, in <cell line: 1>\n",
      "    assert lft_str == rgt_str, f\"{lft_str} != {rgt_str}\"\n",
      "AssertionError: hello != hallo\n"
     ]
    }
   ],
   "source": [
    "try:\n",
    "    assert lft_str == rgt_str, f\"{lft_str} != {rgt_str}\"\n",
    "except AssertionError:\n",
    "    traceback.print_exc()"
   ]
  },
  {
   "cell_type": "markdown",
   "metadata": {},
   "source": [
    "With `highlight_string_differences`, it is easier to spot subtle differences."
   ]
  },
  {
   "cell_type": "code",
   "execution_count": 6,
   "metadata": {},
   "outputs": [
    {
     "name": "stderr",
     "output_type": "stream",
     "text": [
      "Traceback (most recent call last):\n",
      "  File \"/tmp/ipykernel_22739/4023425549.py\", line 8, in <cell line: 7>\n",
      "    assert lft_str == rgt_str, get_string_diff(lft_str, rgt_str)\n",
      "AssertionError: lft_str != rgt_str\n",
      "hello\n",
      " |   \n",
      "hallo\n"
     ]
    }
   ],
   "source": [
    "def get_string_diff(lft_str, rgt_str):\n",
    "    return \"lft_str != rgt_str\\n\" + bumbag.highlight_string_differences(\n",
    "        lft_str, rgt_str\n",
    "    )\n",
    "\n",
    "\n",
    "try:\n",
    "    assert lft_str == rgt_str, get_string_diff(lft_str, rgt_str)\n",
    "except AssertionError:\n",
    "    traceback.print_exc()"
   ]
  },
  {
   "cell_type": "markdown",
   "metadata": {},
   "source": [
    "### `stopwatch`"
   ]
  },
  {
   "cell_type": "code",
   "execution_count": 7,
   "metadata": {},
   "outputs": [],
   "source": [
    "import functools\n",
    "from datetime import datetime\n",
    "\n",
    "import time_machine\n",
    "\n",
    "# overwrite defaults for illustrative purposes\n",
    "stopwatch = functools.partial(\n",
    "    bumbag.stopwatch,\n",
    "    fmt=\"%a, %-d %b %Y %H:%M:%S\",\n",
    "    flush=False,\n",
    ")\n",
    "\n",
    "# mock datetime\n",
    "traveller = time_machine.travel(datetime(2023, 1, 1, 12, 0, 0))\n",
    "traveller.start();"
   ]
  },
  {
   "cell_type": "markdown",
   "metadata": {},
   "source": [
    "Use as context manager."
   ]
  },
  {
   "cell_type": "markdown",
   "metadata": {},
   "source": [
    "Example 1: Measure total elapsed time of multiple statements."
   ]
  },
  {
   "cell_type": "code",
   "execution_count": 8,
   "metadata": {
    "scrolled": false
   },
   "outputs": [
    {
     "name": "stdout",
     "output_type": "stream",
     "text": [
      "Sun, 1 Jan 2023 12:00:00 -> Sun, 1 Jan 2023 12:00:00 = 0.100421s - example 1\n"
     ]
    }
   ],
   "source": [
    "import time\n",
    "\n",
    "with stopwatch(\"example 1\"):\n",
    "    time.sleep(0.05)\n",
    "    time.sleep(0.05)"
   ]
  },
  {
   "cell_type": "markdown",
   "metadata": {},
   "source": [
    "Example 2: Measure total elapsed time of multiple `stopwatch` instances."
   ]
  },
  {
   "cell_type": "code",
   "execution_count": 9,
   "metadata": {},
   "outputs": [
    {
     "name": "stdout",
     "output_type": "stream",
     "text": [
      "Sun, 1 Jan 2023 12:00:00 -> Sun, 1 Jan 2023 12:00:00 = 0.050203s - example 2 - stopwatch 1\n",
      "Sun, 1 Jan 2023 12:00:00 -> Sun, 1 Jan 2023 12:00:00 = 0.050605s - example 2 - stopwatch 2\n"
     ]
    },
    {
     "data": {
      "text/plain": [
       "0.100808s - total elapsed time"
      ]
     },
     "execution_count": 9,
     "metadata": {},
     "output_type": "execute_result"
    }
   ],
   "source": [
    "with stopwatch(\"example 2 - stopwatch 1\") as sw1:\n",
    "    time.sleep(0.05)\n",
    "\n",
    "with stopwatch(\"example 2 - stopwatch 2\") as sw2:\n",
    "    time.sleep(0.05)\n",
    "\n",
    "sw1 + sw2"
   ]
  },
  {
   "cell_type": "markdown",
   "metadata": {},
   "source": [
    "Use as decorator."
   ]
  },
  {
   "cell_type": "code",
   "execution_count": 10,
   "metadata": {},
   "outputs": [],
   "source": [
    "@stopwatch(\"example 3\")\n",
    "def func_with_supplied_label():\n",
    "    time.sleep(0.1)"
   ]
  },
  {
   "cell_type": "code",
   "execution_count": 11,
   "metadata": {},
   "outputs": [
    {
     "name": "stdout",
     "output_type": "stream",
     "text": [
      "Sun, 1 Jan 2023 12:00:00 -> Sun, 1 Jan 2023 12:00:00 = 0.100273s - example 3\n"
     ]
    }
   ],
   "source": [
    "func_with_supplied_label()"
   ]
  },
  {
   "cell_type": "code",
   "execution_count": 12,
   "metadata": {},
   "outputs": [],
   "source": [
    "@stopwatch()\n",
    "def func_with_no_supplied_label():\n",
    "    time.sleep(0.1)"
   ]
  },
  {
   "cell_type": "code",
   "execution_count": 13,
   "metadata": {},
   "outputs": [
    {
     "name": "stdout",
     "output_type": "stream",
     "text": [
      "Sun, 1 Jan 2023 12:00:00 -> Sun, 1 Jan 2023 12:00:00 = 0.100257s - func_with_no_supplied_label\n"
     ]
    }
   ],
   "source": [
    "func_with_no_supplied_label()"
   ]
  },
  {
   "cell_type": "code",
   "execution_count": 14,
   "metadata": {},
   "outputs": [],
   "source": [
    "traveller.stop()"
   ]
  },
  {
   "cell_type": "markdown",
   "metadata": {},
   "source": [
    "### `two_set_summary`"
   ]
  },
  {
   "cell_type": "code",
   "execution_count": 15,
   "metadata": {
    "scrolled": true
   },
   "outputs": [
    {
     "name": "stdout",
     "output_type": "stream",
     "text": [
      "    x (n=5): {'a', 'b', 'c', ...}\n",
      "    y (n=5): {'c', 'd', 'e', ...}\n",
      "x | y (n=8): {'a', 'b', 'c', ...}\n",
      "x & y (n=2): {'c', 'g'}\n",
      "x - y (n=3): {'a', 'b', 'h'}\n",
      "y - x (n=3): {'d', 'e', 'f'}\n",
      "x ^ y (n=6): {'a', 'b', 'd', ...}\n",
      "jaccard = 0.25\n",
      "overlap = 0.4\n",
      "dice = 0.4\n",
      "disjoint?: False\n",
      "x == y: False\n",
      "x <= y: False\n",
      "x <  y: False\n",
      "y <= x: False\n",
      "y <  x: False\n"
     ]
    }
   ],
   "source": [
    "import bumbag\n",
    "\n",
    "x = {\"a\", \"c\", \"b\", \"g\", \"h\"}\n",
    "y = {\"c\", \"d\", \"e\", \"f\", \"g\"}\n",
    "summary = bumbag.two_set_summary(x, y)\n",
    "print(summary[\"report\"])"
   ]
  }
 ],
 "metadata": {
  "kernelspec": {
   "display_name": "Python 3 (ipykernel)",
   "language": "python",
   "name": "python3"
  },
  "language_info": {
   "codemirror_mode": {
    "name": "ipython",
    "version": 3
   },
   "file_extension": ".py",
   "mimetype": "text/x-python",
   "name": "python",
   "nbconvert_exporter": "python",
   "pygments_lexer": "ipython3",
   "version": "3.8.16"
  }
 },
 "nbformat": 4,
 "nbformat_minor": 4
}
