{
 "cells": [
  {
   "cell_type": "markdown",
   "metadata": {},
   "source": [
    "# Example usage"
   ]
  },
  {
   "cell_type": "markdown",
   "metadata": {},
   "source": [
    "## Version check"
   ]
  },
  {
   "cell_type": "code",
   "execution_count": 1,
   "metadata": {},
   "outputs": [
    {
     "name": "stdout",
     "output_type": "stream",
     "text": [
      "4.0.0\n"
     ]
    }
   ],
   "source": [
    "import bumbag\n",
    "\n",
    "print(bumbag.__version__)"
   ]
  },
  {
   "cell_type": "markdown",
   "metadata": {},
   "source": [
    "### `daycount`"
   ]
  },
  {
   "cell_type": "markdown",
   "metadata": {},
   "source": [
    "Task: The digits of 22 February 2022 form [a palindrome and an ambigram](https://en.wikipedia.org/wiki/Twosday) in dd-mm-yyyy format.\n",
    "List the next five dates with these properties."
   ]
  },
  {
   "cell_type": "code",
   "execution_count": 2,
   "metadata": {},
   "outputs": [
    {
     "data": {
      "text/plain": [
       "['08-02-2080 ↦ 08022080',\n",
       " '18-02-2081 ↦ 18022081',\n",
       " '28-02-2082 ↦ 28022082',\n",
       " '10-12-2101 ↦ 10122101',\n",
       " '20-12-2102 ↦ 20122102']"
      ]
     },
     "execution_count": 2,
     "metadata": {},
     "output_type": "execute_result"
    }
   ],
   "source": [
    "from datetime import date\n",
    "\n",
    "from toolz import curried\n",
    "\n",
    "import bumbag\n",
    "\n",
    "\n",
    "def format_date(date, with_dash):\n",
    "    fmt = \"%d-%m-%Y\" if with_dash else \"%d%m%Y\"\n",
    "    return date.strftime(fmt)\n",
    "\n",
    "\n",
    "def is_palindrome_date(date):\n",
    "    d = format_date(date, False)\n",
    "    return d == d[::-1]\n",
    "\n",
    "\n",
    "def is_ambigram_date(date):\n",
    "    d = format_date(date, False)\n",
    "    return set(d) <= {\"0\", \"1\", \"2\", \"8\"}\n",
    "\n",
    "\n",
    "def show_date(date):\n",
    "    return f\"{format_date(date, True)} ↦ {format_date(date, False)}\"\n",
    "\n",
    "\n",
    "curried.pipe(\n",
    "    bumbag.daycount(date(2022, 2, 23)),\n",
    "    curried.filter(is_palindrome_date),\n",
    "    curried.filter(is_ambigram_date),\n",
    "    curried.map(show_date),\n",
    "    curried.take(5),\n",
    "    list,\n",
    ")"
   ]
  },
  {
   "cell_type": "markdown",
   "metadata": {},
   "source": [
    "### `flatten`"
   ]
  },
  {
   "cell_type": "code",
   "execution_count": 3,
   "metadata": {},
   "outputs": [
    {
     "data": {
      "text/plain": [
       "['one', 2, 3, 4, 'five', 'six', 'seven', 8, 9, 'ten']"
      ]
     },
     "execution_count": 3,
     "metadata": {},
     "output_type": "execute_result"
    }
   ],
   "source": [
    "import bumbag\n",
    "\n",
    "irregular_list = [\n",
    "    [\"one\", 2],\n",
    "    3,\n",
    "    [(4, \"five\")],\n",
    "    [[[\"six\"]]],\n",
    "    \"seven\",\n",
    "    [],\n",
    "]\n",
    "\n",
    "list(bumbag.flatten(irregular_list, 8, [9, (\"ten\",)]))"
   ]
  },
  {
   "cell_type": "markdown",
   "metadata": {},
   "source": [
    "### `humantime`"
   ]
  },
  {
   "cell_type": "markdown",
   "metadata": {},
   "source": [
    "Use as decorator:"
   ]
  },
  {
   "cell_type": "code",
   "execution_count": 4,
   "metadata": {},
   "outputs": [],
   "source": [
    "import time\n",
    "import functools\n",
    "\n",
    "import bumbag\n",
    "\n",
    "\n",
    "def stopwatch(func):\n",
    "    @functools.wraps(func)\n",
    "    def wrapper(*args, **kwargs):\n",
    "        t0 = time.time()\n",
    "        output = func(*args, **kwargs)\n",
    "        runtime = time.time() - t0\n",
    "        print(f\"{func.__name__} took {bumbag.humantime(runtime)}\")\n",
    "        return output\n",
    "\n",
    "    return wrapper\n",
    "\n",
    "\n",
    "@stopwatch\n",
    "def my_function():\n",
    "    time.sleep(0.1)"
   ]
  },
  {
   "cell_type": "code",
   "execution_count": 5,
   "metadata": {},
   "outputs": [
    {
     "name": "stdout",
     "output_type": "stream",
     "text": [
      "my_function took 0.100308s\n"
     ]
    }
   ],
   "source": [
    "my_function()"
   ]
  },
  {
   "cell_type": "markdown",
   "metadata": {},
   "source": [
    "Use as context manager:"
   ]
  },
  {
   "cell_type": "code",
   "execution_count": 6,
   "metadata": {},
   "outputs": [],
   "source": [
    "import time\n",
    "from contextlib import contextmanager\n",
    "\n",
    "import bumbag\n",
    "\n",
    "\n",
    "@contextmanager\n",
    "def stopwatch():\n",
    "    t0 = time.time()\n",
    "    yield\n",
    "    runtime = time.time() - t0\n",
    "    print(f\"{bumbag.humantime(runtime)}\")"
   ]
  },
  {
   "cell_type": "code",
   "execution_count": 7,
   "metadata": {},
   "outputs": [
    {
     "name": "stdout",
     "output_type": "stream",
     "text": [
      "0.100497s\n"
     ]
    }
   ],
   "source": [
    "with stopwatch():\n",
    "    time.sleep(0.1)"
   ]
  },
  {
   "cell_type": "markdown",
   "metadata": {},
   "source": [
    "### `two_set_summary`"
   ]
  },
  {
   "cell_type": "code",
   "execution_count": 8,
   "metadata": {
    "scrolled": true
   },
   "outputs": [
    {
     "name": "stdout",
     "output_type": "stream",
     "text": [
      "    x (n=5): {'a', 'b', 'c', ...}\n",
      "    y (n=5): {'c', 'd', 'e', ...}\n",
      "x | y (n=8): {'a', 'b', 'c', ...}\n",
      "x & y (n=2): {'c', 'g'}\n",
      "x - y (n=3): {'a', 'b', 'h'}\n",
      "y - x (n=3): {'d', 'e', 'f'}\n",
      "x ^ y (n=6): {'a', 'b', 'd', ...}\n",
      "jaccard = 0.25\n",
      "overlap = 0.4\n",
      "dice = 0.4\n",
      "disjoint?: False\n",
      "x == y: False\n",
      "x <= y: False\n",
      "x <  y: False\n",
      "y <= x: False\n",
      "y <  x: False\n"
     ]
    }
   ],
   "source": [
    "import bumbag\n",
    "\n",
    "x = {\"a\", \"c\", \"b\", \"g\", \"h\"}\n",
    "y = {\"c\", \"d\", \"e\", \"f\", \"g\"}\n",
    "summary = bumbag.two_set_summary(x, y)\n",
    "print(summary[\"report\"])"
   ]
  },
  {
   "cell_type": "code",
   "execution_count": null,
   "metadata": {},
   "outputs": [],
   "source": []
  }
 ],
 "metadata": {
  "kernelspec": {
   "display_name": "Python 3 (ipykernel)",
   "language": "python",
   "name": "python3"
  },
  "language_info": {
   "codemirror_mode": {
    "name": "ipython",
    "version": 3
   },
   "file_extension": ".py",
   "mimetype": "text/x-python",
   "name": "python",
   "nbconvert_exporter": "python",
   "pygments_lexer": "ipython3",
   "version": "3.8.16"
  }
 },
 "nbformat": 4,
 "nbformat_minor": 4
}
