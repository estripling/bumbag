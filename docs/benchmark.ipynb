{
 "cells": [
  {
   "cell_type": "markdown",
   "metadata": {},
   "source": [
    "# Benchmark"
   ]
  },
  {
   "cell_type": "markdown",
   "metadata": {},
   "source": [
    "```ipython\n",
    "%load_ext watermark\n",
    "```"
   ]
  },
  {
   "cell_type": "markdown",
   "metadata": {},
   "source": [
    "```ipython\n",
    "import pandas as pd\n",
    "\n",
    "from bumbag import core\n",
    "```"
   ]
  },
  {
   "cell_type": "markdown",
   "metadata": {},
   "source": [
    "```ipython\n",
    "%watermark -v -m --iversions\n",
    "```\n",
    "```text\n",
    "Python implementation: CPython\n",
    "Python version       : 3.8.13\n",
    "IPython version      : 8.4.0\n",
    "\n",
    "Compiler    : GCC 7.5.0\n",
    "OS          : Linux\n",
    "Release     : 5.18.5-100.fc35.x86_64\n",
    "Machine     : x86_64\n",
    "Processor   : x86_64\n",
    "CPU cores   : 3\n",
    "Architecture: 64bit\n",
    "\n",
    "pandas    : 1.4.2\n",
    "matplotlib: 3.5.2\n",
    "numpy     : 1.22.4\n",
    "```"
   ]
  },
  {
   "cell_type": "markdown",
   "metadata": {},
   "source": [
    "## `core` module"
   ]
  },
  {
   "cell_type": "markdown",
   "metadata": {},
   "source": [
    "### `freq` versus `value_counts`"
   ]
  },
  {
   "cell_type": "code",
   "execution_count": 1,
   "metadata": {},
   "outputs": [],
   "source": [
    "from benchmark_freq_versus_value_counts import freq_pd, enhanced_value_counts"
   ]
  },
  {
   "cell_type": "code",
   "execution_count": 2,
   "metadata": {},
   "outputs": [
    {
     "ename": "NameError",
     "evalue": "name 'core' is not defined",
     "output_type": "error",
     "traceback": [
      "\u001b[0;31m---------------------------------------------------------------------------\u001b[0m",
      "\u001b[0;31mNameError\u001b[0m                                 Traceback (most recent call last)",
      "Input \u001b[0;32mIn [2]\u001b[0m, in \u001b[0;36m<cell line: 1>\u001b[0;34m()\u001b[0m\n\u001b[0;32m----> 1\u001b[0m \u001b[38;5;28mprint\u001b[39m(\u001b[43mcore\u001b[49m\u001b[38;5;241m.\u001b[39mget_source_code(freq_pd))\n",
      "\u001b[0;31mNameError\u001b[0m: name 'core' is not defined"
     ]
    }
   ],
   "source": [
    "print(core.get_source_code(freq_pd))"
   ]
  },
  {
   "cell_type": "code",
   "execution_count": null,
   "metadata": {},
   "outputs": [],
   "source": [
    "print(core.get_source_code(enhanced_value_counts))"
   ]
  },
  {
   "cell_type": "code",
   "execution_count": null,
   "metadata": {},
   "outputs": [],
   "source": [
    "values = [\"a\", \"c\", \"b\", \"g\", \"h\", \"a\", \"g\", \"a\"]"
   ]
  },
  {
   "cell_type": "code",
   "execution_count": null,
   "metadata": {},
   "outputs": [],
   "source": [
    "bb_output = freq_pd(values)\n",
    "pd_output = enhanced_value_counts(values)\n",
    "bb_output.equals(pd_output)"
   ]
  },
  {
   "cell_type": "code",
   "execution_count": null,
   "metadata": {},
   "outputs": [],
   "source": [
    "bb_output"
   ]
  },
  {
   "cell_type": "markdown",
   "metadata": {},
   "source": [
    "```ipython\n",
    "%%timeit -n 100 -r 10\n",
    "freq_pd(values)\n",
    "```\n",
    "```text\n",
    "1.66 ms ± 507 µs per loop (mean ± std. dev. of 10 runs, 100 loops each)\n",
    "```"
   ]
  },
  {
   "cell_type": "markdown",
   "metadata": {},
   "source": [
    "```ipython\n",
    "%%timeit -n 100 -r 10\n",
    "enhanced_value_counts(values)\n",
    "```\n",
    "```text\n",
    "3.7 ms ± 448 µs per loop (mean ± std. dev. of 10 runs, 100 loops each)\n",
    "```"
   ]
  },
  {
   "cell_type": "code",
   "execution_count": null,
   "metadata": {},
   "outputs": [],
   "source": [
    "3.7 / 1.66"
   ]
  },
  {
   "cell_type": "markdown",
   "metadata": {
    "scrolled": false
   },
   "source": [
    "```ipython\n",
    "%run -i \"benchmark_freq_versus_value_counts.py\"\n",
    "```\n",
    "\n",
    "![Image](./benchmark_freq_versus_value_counts.png)"
   ]
  },
  {
   "cell_type": "code",
   "execution_count": null,
   "metadata": {},
   "outputs": [],
   "source": []
  }
 ],
 "metadata": {
  "kernelspec": {
   "display_name": "Python 3 (ipykernel)",
   "language": "python",
   "name": "python3"
  },
  "language_info": {
   "codemirror_mode": {
    "name": "ipython",
    "version": 3
   },
   "file_extension": ".py",
   "mimetype": "text/x-python",
   "name": "python",
   "nbconvert_exporter": "python",
   "pygments_lexer": "ipython3",
   "version": "3.8.13"
  }
 },
 "nbformat": 4,
 "nbformat_minor": 4
}
