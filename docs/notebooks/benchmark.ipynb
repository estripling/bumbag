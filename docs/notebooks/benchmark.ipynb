{
 "cells": [
  {
   "cell_type": "markdown",
   "metadata": {},
   "source": [
    "# Benchmark"
   ]
  },
  {
   "cell_type": "markdown",
   "metadata": {},
   "source": [
    "```ipython\n",
    "%load_ext watermark\n",
    "```"
   ]
  },
  {
   "cell_type": "code",
   "execution_count": 1,
   "metadata": {},
   "outputs": [],
   "source": [
    "import pandas as pd\n",
    "from IPython.display import HTML, display\n",
    "\n",
    "from bumbag import core"
   ]
  },
  {
   "cell_type": "markdown",
   "metadata": {},
   "source": [
    "```ipython\n",
    "%watermark -v -m --iversions\n",
    "```\n",
    "```text\n",
    "Python implementation: CPython\n",
    "Python version       : 3.8.13\n",
    "IPython version      : 8.4.0\n",
    "\n",
    "Compiler    : GCC 7.5.0\n",
    "OS          : Linux\n",
    "Release     : 5.18.5-100.fc35.x86_64\n",
    "Machine     : x86_64\n",
    "Processor   : x86_64\n",
    "CPU cores   : 3\n",
    "Architecture: 64bit\n",
    "\n",
    "pandas    : 1.4.2\n",
    "matplotlib: 3.5.2\n",
    "numpy     : 1.22.4\n",
    "```"
   ]
  },
  {
   "cell_type": "markdown",
   "metadata": {},
   "source": [
    "## `core` module"
   ]
  },
  {
   "cell_type": "markdown",
   "metadata": {},
   "source": [
    "### `freq` versus `value_counts`"
   ]
  },
  {
   "cell_type": "code",
   "execution_count": 2,
   "metadata": {},
   "outputs": [],
   "source": [
    "from benchmark_freq_versus_value_counts import freq_pd, enhanced_value_counts"
   ]
  },
  {
   "cell_type": "code",
   "execution_count": 3,
   "metadata": {},
   "outputs": [
    {
     "name": "stdout",
     "output_type": "stream",
     "text": [
      "def freq_pd(values):\n",
      "    return pd.DataFrame(core.freq(values))\n",
      "\n"
     ]
    }
   ],
   "source": [
    "print(core.get_source_code(freq_pd))"
   ]
  },
  {
   "cell_type": "code",
   "execution_count": 4,
   "metadata": {},
   "outputs": [
    {
     "name": "stdout",
     "output_type": "stream",
     "text": [
      "def enhanced_value_counts(values):\n",
      "    \"\"\"Equivalent Pandas implementation of freq.\"\"\"\n",
      "    s = pd.Series(values).value_counts(\n",
      "        sort=True,\n",
      "        ascending=False,\n",
      "        bins=None,\n",
      "        dropna=False,\n",
      "    )\n",
      "\n",
      "    df = pd.DataFrame(s, columns=[\"n\"])\n",
      "    df[\"N\"] = df[\"n\"].cumsum()\n",
      "    df[\"r\"] = df[\"n\"] / df[\"n\"].sum()\n",
      "    df[\"R\"] = df[\"r\"].cumsum()\n",
      "\n",
      "    return df\n",
      "\n"
     ]
    }
   ],
   "source": [
    "print(core.get_source_code(enhanced_value_counts))"
   ]
  },
  {
   "cell_type": "code",
   "execution_count": 5,
   "metadata": {},
   "outputs": [],
   "source": [
    "values = [\"a\", \"c\", \"b\", \"g\", \"h\", \"a\", \"g\", \"a\"]"
   ]
  },
  {
   "cell_type": "code",
   "execution_count": 6,
   "metadata": {},
   "outputs": [
    {
     "data": {
      "text/plain": [
       "True"
      ]
     },
     "execution_count": 6,
     "metadata": {},
     "output_type": "execute_result"
    }
   ],
   "source": [
    "bb_output = freq_pd(values)\n",
    "pd_output = enhanced_value_counts(values)\n",
    "bb_output.equals(pd_output)"
   ]
  },
  {
   "cell_type": "code",
   "execution_count": 7,
   "metadata": {},
   "outputs": [
    {
     "data": {
      "text/html": [
       "<table border=\"1\" class=\"dataframe\">\n",
       "  <thead>\n",
       "    <tr style=\"text-align: right;\">\n",
       "      <th style=\"min-width: 30px;\"></th>\n",
       "      <th style=\"min-width: 30px;\">n</th>\n",
       "      <th style=\"min-width: 30px;\">N</th>\n",
       "      <th style=\"min-width: 30px;\">r</th>\n",
       "      <th style=\"min-width: 30px;\">R</th>\n",
       "    </tr>\n",
       "  </thead>\n",
       "  <tbody>\n",
       "    <tr>\n",
       "      <th>a</th>\n",
       "      <td>3</td>\n",
       "      <td>3</td>\n",
       "      <td>0.375</td>\n",
       "      <td>0.375</td>\n",
       "    </tr>\n",
       "    <tr>\n",
       "      <th>g</th>\n",
       "      <td>2</td>\n",
       "      <td>5</td>\n",
       "      <td>0.250</td>\n",
       "      <td>0.625</td>\n",
       "    </tr>\n",
       "    <tr>\n",
       "      <th>c</th>\n",
       "      <td>1</td>\n",
       "      <td>6</td>\n",
       "      <td>0.125</td>\n",
       "      <td>0.750</td>\n",
       "    </tr>\n",
       "    <tr>\n",
       "      <th>b</th>\n",
       "      <td>1</td>\n",
       "      <td>7</td>\n",
       "      <td>0.125</td>\n",
       "      <td>0.875</td>\n",
       "    </tr>\n",
       "    <tr>\n",
       "      <th>h</th>\n",
       "      <td>1</td>\n",
       "      <td>8</td>\n",
       "      <td>0.125</td>\n",
       "      <td>1.000</td>\n",
       "    </tr>\n",
       "  </tbody>\n",
       "</table>"
      ],
      "text/plain": [
       "<IPython.core.display.HTML object>"
      ]
     },
     "metadata": {},
     "output_type": "display_data"
    }
   ],
   "source": [
    "display(HTML(bb_output.to_html(col_space=\"30px\")))"
   ]
  },
  {
   "cell_type": "markdown",
   "metadata": {},
   "source": [
    "```ipython\n",
    "%%timeit -n 100 -r 10\n",
    "freq_pd(values)\n",
    "```\n",
    "```text\n",
    "1.66 ms ± 507 µs per loop (mean ± std. dev. of 10 runs, 100 loops each)\n",
    "```"
   ]
  },
  {
   "cell_type": "markdown",
   "metadata": {},
   "source": [
    "```ipython\n",
    "%%timeit -n 100 -r 10\n",
    "enhanced_value_counts(values)\n",
    "```\n",
    "```text\n",
    "3.7 ms ± 448 µs per loop (mean ± std. dev. of 10 runs, 100 loops each)\n",
    "```"
   ]
  },
  {
   "cell_type": "code",
   "execution_count": 8,
   "metadata": {},
   "outputs": [
    {
     "data": {
      "text/plain": [
       "2.2289156626506026"
      ]
     },
     "execution_count": 8,
     "metadata": {},
     "output_type": "execute_result"
    }
   ],
   "source": [
    "3.7 / 1.66"
   ]
  },
  {
   "cell_type": "markdown",
   "metadata": {
    "scrolled": false
   },
   "source": [
    "```ipython\n",
    "%run -i \"benchmark_freq_versus_value_counts.py\"\n",
    "```\n",
    "\n",
    "![Image](./benchmark_freq_versus_value_counts.png)"
   ]
  }
 ],
 "metadata": {
  "kernelspec": {
   "display_name": "Python 3 (ipykernel)",
   "language": "python",
   "name": "python3"
  },
  "language_info": {
   "codemirror_mode": {
    "name": "ipython",
    "version": 3
   },
   "file_extension": ".py",
   "mimetype": "text/x-python",
   "name": "python",
   "nbconvert_exporter": "python",
   "pygments_lexer": "ipython3",
   "version": "3.8.13"
  }
 },
 "nbformat": 4,
 "nbformat_minor": 4
}
