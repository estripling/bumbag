{
 "cells": [
  {
   "cell_type": "markdown",
   "metadata": {},
   "source": [
    "# Example usage"
   ]
  },
  {
   "cell_type": "markdown",
   "metadata": {},
   "source": [
    "## Version check"
   ]
  },
  {
   "cell_type": "code",
   "execution_count": 1,
   "metadata": {},
   "outputs": [
    {
     "name": "stdout",
     "output_type": "stream",
     "text": [
      "0.1.0\n"
     ]
    }
   ],
   "source": [
    "import bumbag\n",
    "\n",
    "print(bumbag.__version__)"
   ]
  },
  {
   "cell_type": "markdown",
   "metadata": {},
   "source": [
    "## `math` module"
   ]
  },
  {
   "cell_type": "code",
   "execution_count": 1,
   "metadata": {},
   "outputs": [],
   "source": [
    "from bumbag.math import two_set_summary"
   ]
  },
  {
   "cell_type": "code",
   "execution_count": 2,
   "metadata": {},
   "outputs": [
    {
     "name": "stdout",
     "output_type": "stream",
     "text": [
      "    x (n=5): {'a', 'b', 'c', ...}\n",
      "    y (n=5): {'c', 'd', 'e', ...}\n",
      "x | y (n=8): {'a', 'b', 'c', ...}\n",
      "x & y (n=2): {'c', 'g'}\n",
      "x - y (n=3): {'a', 'b', 'h'}\n",
      "y - x (n=3): {'d', 'e', 'f'}\n",
      "x ^ y (n=6): {'a', 'b', 'd', ...}\n",
      "jaccard = 0.25\n",
      "overlap = 0.4\n",
      "disjoint?: False\n",
      "x == y: False\n",
      "x <= y: False\n",
      "x <  y: False\n",
      "y <= x: False\n",
      "y <  x: False\n"
     ]
    }
   ],
   "source": [
    "x = {\"a\", \"c\", \"b\", \"g\", \"h\"}\n",
    "y = {\"c\", \"d\", \"e\", \"f\", \"g\"}\n",
    "summary = two_set_summary(x, y)\n",
    "print(summary[\"report\"])"
   ]
  },
  {
   "cell_type": "markdown",
   "metadata": {},
   "source": [
    "## `time` module"
   ]
  },
  {
   "cell_type": "code",
   "execution_count": 2,
   "metadata": {},
   "outputs": [],
   "source": [
    "import time\n",
    "import functools\n",
    "\n",
    "from bumbag.time import humantime"
   ]
  },
  {
   "cell_type": "code",
   "execution_count": 3,
   "metadata": {},
   "outputs": [],
   "source": [
    "def stopwatch(func):\n",
    "    @functools.wraps(func)\n",
    "    def wrapper(*args, **kwargs):\n",
    "        t0 = time.time()\n",
    "        output = func(*args, **kwargs)\n",
    "        duration = time.time() - t0\n",
    "        print(f\"{func.__name__} took {humantime(duration)}\")\n",
    "        return output\n",
    "\n",
    "    return wrapper"
   ]
  },
  {
   "cell_type": "code",
   "execution_count": 4,
   "metadata": {},
   "outputs": [],
   "source": [
    "@stopwatch\n",
    "def my_function():\n",
    "    time.sleep(1)"
   ]
  },
  {
   "cell_type": "code",
   "execution_count": 5,
   "metadata": {},
   "outputs": [
    {
     "name": "stdout",
     "output_type": "stream",
     "text": [
      "my_function took 1.000491 seconds\n"
     ]
    }
   ],
   "source": [
    "my_function()"
   ]
  },
  {
   "cell_type": "code",
   "execution_count": null,
   "metadata": {},
   "outputs": [],
   "source": []
  }
 ],
 "metadata": {
  "kernelspec": {
   "display_name": "Python 3 (ipykernel)",
   "language": "python",
   "name": "python3"
  },
  "language_info": {
   "codemirror_mode": {
    "name": "ipython",
    "version": 3
   },
   "file_extension": ".py",
   "mimetype": "text/x-python",
   "name": "python",
   "nbconvert_exporter": "python",
   "pygments_lexer": "ipython3",
   "version": "3.8.13"
  }
 },
 "nbformat": 4,
 "nbformat_minor": 4
}
