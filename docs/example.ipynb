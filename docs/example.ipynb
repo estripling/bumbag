{
 "cells": [
  {
   "cell_type": "markdown",
   "metadata": {},
   "source": [
    "# Example usage"
   ]
  },
  {
   "cell_type": "markdown",
   "metadata": {},
   "source": [
    "## Version check"
   ]
  },
  {
   "cell_type": "code",
   "execution_count": 1,
   "metadata": {},
   "outputs": [
    {
     "name": "stdout",
     "output_type": "stream",
     "text": [
      "0.1.0\n"
     ]
    }
   ],
   "source": [
    "import bumbag\n",
    "\n",
    "print(bumbag.__version__)"
   ]
  },
  {
   "cell_type": "markdown",
   "metadata": {},
   "source": [
    "## `core` module"
   ]
  },
  {
   "cell_type": "markdown",
   "metadata": {},
   "source": [
    "### `two_set_summary`"
   ]
  },
  {
   "cell_type": "code",
   "execution_count": 2,
   "metadata": {},
   "outputs": [
    {
     "name": "stdout",
     "output_type": "stream",
     "text": [
      "    x (n=5): {'a', 'b', 'c', ...}\n",
      "    y (n=5): {'c', 'd', 'e', ...}\n",
      "x | y (n=8): {'a', 'b', 'c', ...}\n",
      "x & y (n=2): {'c', 'g'}\n",
      "x - y (n=3): {'a', 'b', 'h'}\n",
      "y - x (n=3): {'d', 'e', 'f'}\n",
      "x ^ y (n=6): {'a', 'b', 'd', ...}\n",
      "jaccard = 0.25\n",
      "overlap = 0.4\n",
      "disjoint?: False\n",
      "x == y: False\n",
      "x <= y: False\n",
      "x <  y: False\n",
      "y <= x: False\n",
      "y <  x: False\n"
     ]
    }
   ],
   "source": [
    "from bumbag.core import two_set_summary\n",
    "\n",
    "x = {\"a\", \"c\", \"b\", \"g\", \"h\"}\n",
    "y = {\"c\", \"d\", \"e\", \"f\", \"g\"}\n",
    "summary = two_set_summary(x, y)\n",
    "print(summary[\"report\"])"
   ]
  },
  {
   "cell_type": "markdown",
   "metadata": {},
   "source": [
    "## `math` module"
   ]
  },
  {
   "cell_type": "markdown",
   "metadata": {},
   "source": [
    "### `iseq`"
   ]
  },
  {
   "cell_type": "markdown",
   "metadata": {},
   "source": [
    "Task: Generate a sequence of every other leap year since 1800, where the last digit of each year is zero.\n",
    "List the first ten elements of this sequence."
   ]
  },
  {
   "cell_type": "code",
   "execution_count": 3,
   "metadata": {},
   "outputs": [
    {
     "data": {
      "text/plain": [
       "[1820, 1860, 1920, 1960, 2000, 2040, 2080, 2140, 2180, 2240]"
      ]
     },
     "execution_count": 3,
     "metadata": {},
     "output_type": "execute_result"
    }
   ],
   "source": [
    "from toolz.curried import filter, pipe, take, take_nth\n",
    "\n",
    "from bumbag.math import iseq\n",
    "from bumbag.time import is_leap_year\n",
    "\n",
    "\n",
    "def is_last_digit_zero(year):\n",
    "    return str(year).endswith(\"0\")\n",
    "\n",
    "\n",
    "pipe(\n",
    "    iseq(1800),\n",
    "    filter(is_leap_year),\n",
    "    filter(is_last_digit_zero),\n",
    "    take_nth(2),\n",
    "    take(10),\n",
    "    list,\n",
    ")"
   ]
  },
  {
   "cell_type": "markdown",
   "metadata": {},
   "source": [
    "## `time` module"
   ]
  },
  {
   "cell_type": "markdown",
   "metadata": {},
   "source": [
    "### `humantime`"
   ]
  },
  {
   "cell_type": "code",
   "execution_count": 4,
   "metadata": {},
   "outputs": [],
   "source": [
    "import time\n",
    "import functools\n",
    "\n",
    "from bumbag.time import humantime\n",
    "\n",
    "\n",
    "def stopwatch(func):\n",
    "    @functools.wraps(func)\n",
    "    def wrapper(*args, **kwargs):\n",
    "        t0 = time.time()\n",
    "        output = func(*args, **kwargs)\n",
    "        runtime = time.time() - t0\n",
    "        print(f\"{func.__name__} took {humantime(runtime)}\")\n",
    "        return output\n",
    "\n",
    "    return wrapper\n",
    "\n",
    "\n",
    "@stopwatch\n",
    "def my_function():\n",
    "    time.sleep(1)"
   ]
  },
  {
   "cell_type": "code",
   "execution_count": 5,
   "metadata": {},
   "outputs": [
    {
     "name": "stdout",
     "output_type": "stream",
     "text": [
      "my_function took 1.002489 seconds\n"
     ]
    }
   ],
   "source": [
    "my_function()"
   ]
  },
  {
   "cell_type": "markdown",
   "metadata": {},
   "source": [
    "### `dseq`"
   ]
  },
  {
   "cell_type": "markdown",
   "metadata": {},
   "source": [
    "Task: The digits of 22 February 2022 form [a palindrome and an ambigram](https://en.wikipedia.org/wiki/Twosday) in dd-mm-yyyy format.\n",
    "List the next five dates with these properties."
   ]
  },
  {
   "cell_type": "code",
   "execution_count": 6,
   "metadata": {},
   "outputs": [
    {
     "data": {
      "text/plain": [
       "['08-02-2080 ↦ 08022080',\n",
       " '18-02-2081 ↦ 18022081',\n",
       " '28-02-2082 ↦ 28022082',\n",
       " '10-12-2101 ↦ 10122101',\n",
       " '20-12-2102 ↦ 20122102']"
      ]
     },
     "execution_count": 6,
     "metadata": {},
     "output_type": "execute_result"
    }
   ],
   "source": [
    "from datetime import date\n",
    "\n",
    "from toolz.curried import filter, map, pipe, take\n",
    "\n",
    "from bumbag.time import dseq\n",
    "\n",
    "\n",
    "def format_date(date, with_dash):\n",
    "    fmt = \"%d-%m-%Y\" if with_dash else \"%d%m%Y\"\n",
    "    return date.strftime(fmt)\n",
    "\n",
    "\n",
    "def is_palindrome_date(date):\n",
    "    d = format_date(date, False)\n",
    "    return d == d[::-1]\n",
    "\n",
    "\n",
    "def is_ambigram_date(date):\n",
    "    d = format_date(date, False)\n",
    "    return set(d) <= {\"0\", \"1\", \"2\", \"8\"}\n",
    "\n",
    "\n",
    "def show_date(date):\n",
    "    return f\"{format_date(date, True)} ↦ {format_date(date, False)}\"\n",
    "\n",
    "\n",
    "pipe(\n",
    "    dseq(date(2022, 2, 23), forward=True),\n",
    "    filter(is_palindrome_date),\n",
    "    filter(is_ambigram_date),\n",
    "    map(show_date),\n",
    "    take(5),\n",
    "    list,\n",
    ")"
   ]
  },
  {
   "cell_type": "code",
   "execution_count": null,
   "metadata": {},
   "outputs": [],
   "source": []
  }
 ],
 "metadata": {
  "kernelspec": {
   "display_name": "Python 3 (ipykernel)",
   "language": "python",
   "name": "python3"
  },
  "language_info": {
   "codemirror_mode": {
    "name": "ipython",
    "version": 3
   },
   "file_extension": ".py",
   "mimetype": "text/x-python",
   "name": "python",
   "nbconvert_exporter": "python",
   "pygments_lexer": "ipython3",
   "version": "3.8.13"
  }
 },
 "nbformat": 4,
 "nbformat_minor": 4
}
